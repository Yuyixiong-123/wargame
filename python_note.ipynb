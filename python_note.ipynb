{
 "cells": [
  {
   "cell_type": "markdown",
   "id": "4243b115",
   "metadata": {},
   "source": [
    "# python基础"
   ]
  },
  {
   "cell_type": "markdown",
   "id": "d67854a3",
   "metadata": {},
   "source": [
    "## 列表"
   ]
  },
  {
   "attachments": {},
   "cell_type": "markdown",
   "id": "e00a975c",
   "metadata": {},
   "source": [
    "### 二维列表排序"
   ]
  },
  {
   "cell_type": "code",
   "execution_count": null,
   "id": "8435bb34",
   "metadata": {},
   "outputs": [],
   "source": [
    "# 对单个属性排序\n",
    "\n",
    "list3 = [['1', '15', '8'], ['1', '14', '2'], ['1', '15', '9'], ['1', '14', '3'], ['1', '16', '0'], ['1', '15', '1'],\n",
    "          ['1', '16', '2'], ['1', '15', '10'], ['1', '16', '3'], ['1', '15', '12']]\n",
    "\n",
    "def sort_singlePara(list1):\n",
    "    list2 = sorted(list1, key=(lambda x: x[1]))\n",
    "#     print(list2)\n",
    "    return list2\n",
    "\n",
    "sort_singlePara(list3)"
   ]
  },
  {
   "cell_type": "code",
   "execution_count": null,
   "id": "85b3da5d",
   "metadata": {},
   "outputs": [],
   "source": [
    "\n",
    "list3 = [['1', '15', '8'], ['1', '14', '2'], ['1', '15', '9'], ['1', '14', '3'], ['1', '16', '0'], ['1', '15', '1'],\n",
    "          ['1', '16', '2'], ['1', '15', '10'], ['1', '16', '3'], ['1', '15', '12']]\n",
    "\n",
    "def sort_multiPara(list1):\n",
    "# 　　对数字列表排序，，，多个属性\n",
    "    list2 = sorted(list1, key=(lambda x: [x[0],x[1], x[2]]))\n",
    "#    以内部的一维列表的下标为0的元素为主，下标为1的元素为次，以下标为2的元素最次，进行排序\n",
    "#     print(list2)\n",
    "    return list2\n",
    "\n",
    "sort_multiPara(list3)"
   ]
  },
  {
   "cell_type": "markdown",
   "id": "f926914d",
   "metadata": {},
   "source": [
    "## logging模块"
   ]
  },
  {
   "cell_type": "code",
   "execution_count": null,
   "id": "fe6509da",
   "metadata": {},
   "outputs": [],
   "source": [
    "import logging.handlers\n",
    "\n",
    "# config-log\n",
    "log_filename = 'solver.log' # 设置输出文件位置和名称\n",
    "LOG_FORMAT = \"%(asctime)s - %(filename)s[line:%(lineno)d] - %(levelname)s: %(message)s\" # 设置输出条目的内容格式\n",
    "DATE_FORMAT = \"%Y-%m-%d %H:%M:%S %p\" \n",
    "fp = logging.handlers.RotatingFileHandler(log_filename, maxBytes=1024 * 1024 * 50, #指定log本文文件的大小\n",
    "                                          backupCount=30, encoding='utf-8')\n",
    "fs = logging.StreamHandler()\n",
    "logging.basicConfig(level=logging.DEBUG, format=LOG_FORMAT,\n",
    "                    datefmt=DATE_FORMAT, handlers=[fp, fs]) # 完成最终的配置\n",
    "\n",
    "# usage\n",
    "logging.info((\"risk_allocation\"))\n"
   ]
  },
  {
   "cell_type": "markdown",
   "id": "2172e4e4",
   "metadata": {},
   "source": [
    "# numpy"
   ]
  },
  {
   "cell_type": "markdown",
   "id": "00ef5318",
   "metadata": {},
   "source": [
    "### 数列的生成"
   ]
  },
  {
   "cell_type": "code",
   "execution_count": null,
   "id": "c858c7ab",
   "metadata": {},
   "outputs": [],
   "source": [
    "import numpy as np\n",
    "print(np.arange(1,12,0.5))"
   ]
  },
  {
   "cell_type": "markdown",
   "id": "5301a207",
   "metadata": {},
   "source": [
    "### 数据归一化操作"
   ]
  },
  {
   "cell_type": "code",
   "execution_count": 19,
   "id": "eb71f8d2",
   "metadata": {},
   "outputs": [
    {
     "data": {
      "text/plain": [
       "array([0.75984912, 0.        , 1.        ])"
      ]
     },
     "execution_count": 19,
     "metadata": {},
     "output_type": "execute_result"
    }
   ],
   "source": [
    "import numpy as np\n",
    "from sklearn import preprocessing\n",
    "\n",
    "def normalize_01(a):\n",
    "    X = np.expand_dims(np.array(a), 1)\n",
    "    min_max_scaler = preprocessing.MinMaxScaler()\n",
    "    X_minMax = min_max_scaler.fit_transform(X)\n",
    "    return(np.squeeze(X_minMax, 1))\n",
    "\n",
    "\n",
    "# normalize_01(np.arange(0.6, 1.6, 0.1))\n",
    "normalize_01([-9.79028,-\t10.0441,-\t9.71006])\n"
   ]
  },
  {
   "cell_type": "markdown",
   "id": "93463350",
   "metadata": {},
   "source": [
    "### 数据增加、减少维度"
   ]
  },
  {
   "cell_type": "code",
   "execution_count": null,
   "id": "446043f4",
   "metadata": {},
   "outputs": [],
   "source": [
    "a=np.arange(0.6, 1.6, 0.1)\n",
    "X = np.expand_dims(np.array(a), 1)  #增加\n",
    "print(a)\n",
    "print(X)\n",
    "\n",
    "np.squeeze(X, 1) #减少"
   ]
  },
  {
   "cell_type": "markdown",
   "id": "77d9cd11",
   "metadata": {},
   "source": [
    "### 找到最值坐标"
   ]
  },
  {
   "cell_type": "code",
   "execution_count": null,
   "id": "949df7f2",
   "metadata": {},
   "outputs": [],
   "source": [
    "import numpy as np\n",
    "a=[0.24998719, 0.14288885, 0.32237078]\n",
    "\n",
    "def get_max_index(a):\n",
    "#     仅返回索引列表中的第一个最大值索引\n",
    "    index_set=np.where(a == np.max(a))[0] #    (array([2], dtype=int64),)  第一位元素才是索引，后面是类型\n",
    "    index=index_set[0]\n",
    "    return index\n",
    "#     返回全部的索引\n",
    "#     index_set=np.where(a == np.max(a))[0] #    (array([2], dtype=int64),)  第一位元素才是索引，后面是类型\n",
    "#     return index_set\n",
    "index=get_max_index(a)\n",
    "print(index)\n",
    "print( a [index] )"
   ]
  },
  {
   "cell_type": "markdown",
   "id": "21a29fef",
   "metadata": {},
   "source": [
    "# panda"
   ]
  },
  {
   "cell_type": "markdown",
   "id": "0e1db0ed",
   "metadata": {},
   "source": [
    "## 标准读取数据，写入数据"
   ]
  },
  {
   "cell_type": "code",
   "execution_count": null,
   "id": "feecc437",
   "metadata": {},
   "outputs": [],
   "source": [
    "import pandas as pd\n",
    "import numpy as np\n",
    "import openpyxl\n",
    "\n",
    "execl_path = \"./三个算法的表现统计/algorithm_preference_SA.txt\"\n",
    "# 读取csv文件，注意说明分割符号\n",
    "heli_df = pd.read_csv(execl_path, sep='\\t')\n",
    "# 读取Excel文件，注意说明分割符号\n",
    "heli_df = pd.read_excel(execl_path, sheet_name='heli')\n",
    "\n",
    "###############################################################################\n",
    "##          一次写入多个dataform进入一个Excel文件的多个sheet                    ##\n",
    "###############################################################################\n",
    "summary_excel = \"summary.xlsx\" #确定文件路径\n",
    "book = openpyxl.load_workbook(summary_excel)\n",
    "xlsx = pd.ExcelWriter(summary_excel, engine='openpyxl')\n",
    "xlsx.book = book #!先保存之前的全部的sheet数据\n",
    "\n",
    "summary_temp = pd.DataFrame([[1, 2, 3], [1, 2, 3]])\n",
    "summary_all = pd.DataFrame([[1, 2, 3], [1, 2, 3]])\n",
    "\n",
    "# 写入Excel文件，可以多个sheet\n",
    "summary_temp.to_excel(\n",
    "    xlsx, sheet_name='第{}周'.format(1), index=False)\n",
    "summary_all.to_excel(\n",
    "    xlsx, sheet_name='汇总', index=False)\n",
    "xlsx.close() # 一定要关闭\n"
   ]
  },
  {
   "cell_type": "markdown",
   "id": "0b4f7129",
   "metadata": {},
   "source": [
    "## 定位读取，增添，删改"
   ]
  },
  {
   "cell_type": "code",
   "execution_count": null,
   "id": "27a0c277",
   "metadata": {},
   "outputs": [],
   "source": [
    "import pandas as pd\n",
    "df = pd.DataFrame([[1, 2, 3], [1, 2, 3]])\n",
    "\n",
    "# print('aa\\n',df.loc[0,2]) #获得某行某列的数据\n",
    "\n",
    "# print('bb\\n', df.iloc[-1])  # 选取DataFrame最后一行，返回的是Series\n",
    "# print('cc\\n', df.iloc[-1:])  # 选取DataFrame最后一行，返回的是DataFrame\n",
    "# print('dd\\n', df.loc[0:1])  # 获得多行数据,直接方括号里面输入序号的起始点即可\n",
    "\n",
    "# print(df[0])  # 选择表格中的0列，使用类字典属性,返回的是Series类型\n",
    "# print('ee\\n', df.loc[:, [1]])  # 获得1[列]数据，返回的是DataFrame\n",
    "# print('ff\\n', df.loc[:, [0, 2]])  # 获得多[列]数据\n",
    "\n",
    "# 增加list为一行\n",
    "df.loc[len(df)] = [4,5,6]\n",
    "print('gg\\n', df)\n",
    "\n",
    "# 删除某一行，某一列 #!注意要重新赋值才可以！\n",
    "df = df.drop([1])\n",
    "print('hh-1\\n', df)\n",
    "df = df.drop(columns=[1])\n",
    "print('hh-2\\n', df)\n"
   ]
  },
  {
   "cell_type": "markdown",
   "id": "e63b6a30",
   "metadata": {},
   "source": [
    "## panda判断非空"
   ]
  },
  {
   "cell_type": "code",
   "execution_count": null,
   "id": "587b87fc",
   "metadata": {},
   "outputs": [],
   "source": [
    "import pandas as pd\n",
    "df = pd.DataFrame([1, 2, 3])\n",
    "print(df, '\\n\\n\\n', df.loc[1], '\\n\\n\\n', pd.isnull(df.loc[1]))\n",
    "#  pd.isnull(df.loc[1])\n"
   ]
  },
  {
   "cell_type": "markdown",
   "id": "ddd1df23",
   "metadata": {},
   "source": [
    "# 数学试验方法"
   ]
  },
  {
   "cell_type": "markdown",
   "id": "4cd02b5c",
   "metadata": {},
   "source": [
    "### 正交试验生成"
   ]
  },
  {
   "cell_type": "code",
   "execution_count": null,
   "id": "cc14f75c",
   "metadata": {},
   "outputs": [],
   "source": [
    "from allpairspy import AllPairs\n",
    "import numpy as np\n",
    "\n",
    "parameters = [\n",
    "    list(np.round(np.arange(0.6, 1.6, 0.1), 1)),  # alpha\n",
    "    list(np.round(np.arange(0.1, 1.0, 0.1), 1)),  # rou\n",
    "    list(np.round(np.arange(500, 1600, 100), 1)),  # Q\n",
    "    list(np.round(np.arange(6, 20, 1), 1)),  # Cmax\n",
    "    list(np.round(np.arange(1, 5, 1), 1)),  # a\n",
    "]\n",
    "\n",
    "\n",
    "print(\"PAIRWISE:\")\n",
    "for i, pairs in enumerate(AllPairs(parameters)):\n",
    "    print(\"用例编号{:2d}: {}\".format(i, pairs))"
   ]
  },
  {
   "cell_type": "markdown",
   "id": "9c4b54de",
   "metadata": {},
   "source": [
    "# 小工具"
   ]
  },
  {
   "cell_type": "markdown",
   "id": "645f3157",
   "metadata": {},
   "source": [
    "## 给文件夹内文件截取改名"
   ]
  },
  {
   "cell_type": "code",
   "execution_count": null,
   "id": "a977a7ef",
   "metadata": {},
   "outputs": [],
   "source": [
    "import os\n",
    "# os.rename(src, dst)\n",
    "# src - - 要修改的文件或目录名\n",
    "# dst - - 修改后的文件或目录名\n",
    "\n",
    "dir_path = r\"C:\\Users\\YUyixiong\\Desktop\\190841962_附件\"\n",
    "separator = '（'  # 分隔符\n",
    "\n",
    "\n",
    "def rename_by_sep(dir_path, separator):\n",
    "    name_list = os.listdir(dir_path)\n",
    "    for n in name_list:\n",
    "        # 1.保留全部后面的信息，包括最后的.pdf等文件格式信息\n",
    "        # new_n=n[n.index(separator):]\n",
    "        new_n = n[1:]\n",
    "\n",
    "        # 2.删掉的后面的信息，加上最后的.pdf等文件格式信息\n",
    "        # new_n = n[:n.index(separator)]+n[n.index('.'):]\n",
    "\n",
    "        # 3.更加特殊的处理，获得新名称(序号2_薛李斌_上传PDF版大作业.pdf)，还可以结合re\n",
    "        # temp_list1 = n.split('_')\n",
    "        # temp_list2 = n.split('.')\n",
    "        # new_n = temp_list1[1]+'-MBSE课程大作业.'+temp_list2[-1]\n",
    "\n",
    "        try:  # 防止有重复项，导致重命名\n",
    "            os.rename((dir_path+'\\\\'+n), (dir_path+'\\\\'+new_n))\n",
    "        finally:\n",
    "            pass\n",
    "\n",
    "\n",
    "rename_by_sep(dir_path, separator)\n"
   ]
  },
  {
   "cell_type": "code",
   "execution_count": null,
   "id": "d4ee306c",
   "metadata": {},
   "outputs": [],
   "source": []
  }
 ],
 "metadata": {
  "kernelspec": {
   "display_name": "Python 3.8.8 64-bit",
   "language": "python",
   "name": "python3"
  },
  "language_info": {
   "codemirror_mode": {
    "name": "ipython",
    "version": 3
   },
   "file_extension": ".py",
   "mimetype": "text/x-python",
   "name": "python",
   "nbconvert_exporter": "python",
   "pygments_lexer": "ipython3",
   "version": "3.8.8"
  },
  "toc": {
   "base_numbering": 1,
   "nav_menu": {},
   "number_sections": true,
   "sideBar": true,
   "skip_h1_title": false,
   "title_cell": "Table of Contents",
   "title_sidebar": "Contents",
   "toc_cell": false,
   "toc_position": {},
   "toc_section_display": true,
   "toc_window_display": true
  },
  "vscode": {
   "interpreter": {
    "hash": "5ce35984b73147f3014521faff21b39d5135aaf0e2dd2a9aaa8e83b7a4ae6de3"
   }
  }
 },
 "nbformat": 4,
 "nbformat_minor": 5
}
